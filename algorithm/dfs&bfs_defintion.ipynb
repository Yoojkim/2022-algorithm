{
 "cells": [
  {
   "cell_type": "markdown",
   "metadata": {},
   "source": [
    "그래프 탐색 알고리즘- DFS, BFS\n",
    "\n",
    "1. 그래프는 트리와 다르게 정점마다 간선이 없을 수도 \n",
    "2. 루트, 부모, 자식과 같은 트리의 개념이 존재하지 않음\n",
    "결과적으로 트리와 그래프를 비교하면 트리보다 그래프가 **비교적** 자유롭다고 할 수 있다."
   ]
  },
  {
   "cell_type": "markdown",
   "metadata": {},
   "source": [
    "### DFS\n",
    "\n",
    "Depth-First-Search 로 **깊이우선탐색** 알고리즘이다.\n",
    "그래프를 탐색할 때 주변에 있는 노드 중에서 우선순위에 있는 노드에 대해서 들어간 다음 연결된 노드들에 대하여 dfs 수행. 종료 되면 이전 노트 이전 노트 이런 식으로 진행된다.\n",
    "관련 사항은 그림을 보면 쉽게 이해할 수 있다. (관련 그림은 구글링 참조)"
   ]
  },
  {
   "cell_type": "code",
   "execution_count": 19,
   "metadata": {},
   "outputs": [],
   "source": [
    "#DFS 함수\n",
    "#인자: graph(그래프 자체, 2D array)\n",
    "#v: 시작하는 노드 번호\n",
    "#visited: 그래프의 노드가 방문했는지 여부를 파악하기 위한 리스트 \n",
    "\n",
    "def dfs(graph, v, visited):\n",
    "    visited[v]=True \n",
    "\n",
    "    print(v,end=' ')\n",
    "\n",
    "    #해당 번호에 해당하는 노드가 단일 노드가 아니겠지 당연히.. (연결되어 있으니깐)\n",
    "    for i in graph[v]: #i: 인접하는 노드\n",
    "        if not visited[i]:\n",
    "            #i가 이전에 방문된 적이 없다면\n",
    "            dfs(graph,i,visited) #i에 대해서 dfs를 수행 "
   ]
  },
  {
   "cell_type": "code",
   "execution_count": 20,
   "metadata": {},
   "outputs": [
    {
     "name": "stdout",
     "output_type": "stream",
     "text": [
      "1 2 7 6 8 3 4 5 "
     ]
    }
   ],
   "source": [
    "#실제 사용 예제 \n",
    "#주의: v를 1부터 생각함 (예제에서 0은 고려하지 않음)\n",
    "#DFS\n",
    "\n",
    "graph = [\n",
    "  [],\n",
    "  [2, 3, 8],\n",
    "  [1, 7],\n",
    "  [1, 4, 5],\n",
    "  [3, 5],\n",
    "  [3, 4],\n",
    "  [7],\n",
    "  [2, 6, 8],\n",
    "  [1, 7]\n",
    "]\n",
    "\n",
    "visited=[False] * 9\n",
    "\n",
    "dfs(graph,1,visited)"
   ]
  },
  {
   "cell_type": "markdown",
   "metadata": {},
   "source": [
    "### BFS\n",
    "\n",
    "Breadth-First-Search로 **너비우선탐색** 알고리즘이다.\n",
    "특정 노드에서 시작해서 인접한 노드를 먼저 탐색하는 방법. 시작 으로부터 가까운 정점을 먼저 방문하고 멀리 떨어져 있는 정점을 나중에 방문하는 **순회** 방법이다.\n",
    "\n",
    "## DFS- 깊게, BFS- 넓게 로 생각하면 편리함"
   ]
  },
  {
   "cell_type": "code",
   "execution_count": 26,
   "metadata": {},
   "outputs": [],
   "source": [
    "#BFS 함수\n",
    "from collections import deque\n",
    "'''\n",
    "queue 라이브러리보다 deque를 사용해서 더 빠른 이유는, queue 라이브러리는 멀티스레드 관련 사항을 반영하기 때문에 속도가 느림 \n",
    "deque는 해당 내용을 고려하지 않아서 빠름 \n",
    "'''\n",
    "\n",
    "def bfs(graph,v,visited):\n",
    "    #visited[v]=True\n",
    "\n",
    "    queue=deque([v])\n",
    "    visited[v]=True\n",
    "\n",
    "    print('[탐색 순서]')\n",
    "    #queue가 비어있지 않다면 반복 실행 \n",
    "    while queue:\n",
    "        #현재 큐에서 꺼낸 노드 번호\n",
    "        now=queue.popleft()\n",
    "        print(now,end=' ')\n",
    "\n",
    "        related=graph[now]\n",
    "        for r in related:\n",
    "            if not visited[r]:\n",
    "                queue.append(r)\n",
    "                visited[r]=True #중복 막기 위함\n",
    "    \n",
    "    print()"
   ]
  },
  {
   "cell_type": "code",
   "execution_count": 27,
   "metadata": {},
   "outputs": [
    {
     "name": "stdout",
     "output_type": "stream",
     "text": [
      "[탐색 순서]\n",
      "1 2 3 8 7 4 5 6 \n"
     ]
    }
   ],
   "source": [
    "#실제 사용 예제 \n",
    "#주의: v를 1부터 생각함 (예제에서 0은 고려하지 않음)\n",
    "#BFS\n",
    "\n",
    "graph = [\n",
    "  [],\n",
    "  [2, 3, 8],\n",
    "  [1, 7],\n",
    "  [1, 4, 5],\n",
    "  [3, 5],\n",
    "  [3, 4],\n",
    "  [7],\n",
    "  [2, 6, 8],\n",
    "  [1, 7]\n",
    "]\n",
    "\n",
    "visited=[False] * 9\n",
    "\n",
    "bfs(graph,1,visited)"
   ]
  },
  {
   "cell_type": "markdown",
   "metadata": {},
   "source": [
    "BFS 구현 과정에서 어려웠던 점 \n",
    "\n",
    "큐를 사용하는 데에서 문제가 있었다. 큐에 들어간 것이 방문을 했다고 생각하는 게 아닌 **큐에서 나온 시점에서 방문을 했다고 판단** 하였기 때문에 visited[i]=True 과정이 부적절하게 위치해있어, 중복된 값을 순회하게 되었다. 큐에 들어간 시점에 방문을 했다고 판단하여 코드를 수정한 결과, 중복 탐색 문제가 해결되었다. \n",
    "\n",
    "방문했다고 판단하는 코드의 위치에 따라 중복 방문 문제가 생길수 있다는 점을 알게 됨. "
   ]
  }
 ],
 "metadata": {
  "kernelspec": {
   "display_name": "Python 3.8.9 64-bit",
   "language": "python",
   "name": "python3"
  },
  "language_info": {
   "codemirror_mode": {
    "name": "ipython",
    "version": 3
   },
   "file_extension": ".py",
   "mimetype": "text/x-python",
   "name": "python",
   "nbconvert_exporter": "python",
   "pygments_lexer": "ipython3",
   "version": "3.8.9"
  },
  "orig_nbformat": 4,
  "vscode": {
   "interpreter": {
    "hash": "31f2aee4e71d21fbe5cf8b01ff0e069b9275f58929596ceb00d14d90e3e16cd6"
   }
  }
 },
 "nbformat": 4,
 "nbformat_minor": 2
}
