{
 "cells": [
  {
   "cell_type": "markdown",
   "metadata": {},
   "source": [
    "## 정렬 알고리즘\n",
    "\n",
    "1. 버블정렬\n",
    "2. 선택정렬\n",
    "3. 삽입정렬\n",
    "4. 퀵정렬\n",
    "5. 계수정렬\n",
    "6. 병합정렬"
   ]
  },
  {
   "cell_type": "markdown",
   "metadata": {},
   "source": [
    "1. 버블정렬\n",
    "한 번 정렬할 때 (O(n)) 그 중에서 제일 큰 수를 맨 뒤에 위치시키는 정렬 알고리즘\n",
    "총 갯수만큼 정렬해야 하기 때문에 모든 상황에서 O(n^2) \n",
    "\n",
    "선택정렬, 삽입정렬과 같은 복잡도이지만 연산수가 가장 많아 정렬 알고리즘 중에서 제일 효율성이 낮은 알고리즘 "
   ]
  },
  {
   "cell_type": "code",
   "execution_count": 1,
   "metadata": {},
   "outputs": [
    {
     "name": "stdout",
     "output_type": "stream",
     "text": [
      "[2, 3, 4, 5, 5, 7, 7, 8]\n"
     ]
    }
   ],
   "source": [
    "def bubbleSort(lis):\n",
    "    size=len(lis)-1\n",
    "    for j in range(len(lis)):\n",
    "        for i in range(size):\n",
    "            if lis[i]>lis[i+1]:\n",
    "                lis[i],lis[i+1]=lis[i+1],lis[i]\n",
    "        size-=1\n",
    "\n",
    "    return lis\n",
    "\n",
    "lis=[7,3,5,8,7,4,2,5]\n",
    "\n",
    "print(bubbleSort(lis))"
   ]
  },
  {
   "cell_type": "markdown",
   "metadata": {},
   "source": [
    "2. 선택정렬\n",
    "주어진 데이터 중에서 현재 위치에 맞는 데이터를 찾아 위치를 교한하는 정렬 알고리즘\n",
    "앞에서부터 정렬한다고 생각하면 된다.\n",
    "\n",
    "1. 0~n번까지 제일 작은 값을 찾아 0번과 swap\n",
    "2. 1~n 동일하게\n",
    "3. 2~n\n",
    "... \n",
    "4. n-1~n \n",
    "\n",
    "1번의 버블정렬이 뒤에서부터 정렬하는 알고리즘이라면 선택정렬은 앞에서부터 정렬하는 알고리즘\n",
    "시간복잡도는 O(n^2)이다. "
   ]
  },
  {
   "cell_type": "code",
   "execution_count": 3,
   "metadata": {},
   "outputs": [
    {
     "name": "stdout",
     "output_type": "stream",
     "text": [
      "[2, 3, 4, 5, 5, 7, 7, 8]\n"
     ]
    }
   ],
   "source": [
    "def selectionSort(lis):\n",
    "    for i in range(len(lis)):\n",
    "        min=i\n",
    "        for j in range(i+1,len(lis)):\n",
    "            if lis[min]>lis[j]:\n",
    "                min=j\n",
    "        lis[min],lis[i]=lis[i],lis[min]\n",
    "\n",
    "    return lis\n",
    "\n",
    "lis=[7,3,5,8,7,4,2,5]\n",
    "print(selectionSort(lis))"
   ]
  },
  {
   "cell_type": "markdown",
   "metadata": {},
   "source": [
    "3. 삽입정렬\n",
    "처리되지 않은 데이터를 하나씩 선택해 적절한 위치에 넣는 정렬 알고리즘\n",
    "\n",
    "**이미 정렬된 부분**에 새로운 요소를 넣는다고 생각하면 적절함\n",
    "\n",
    "1. 0번 인덱스는 고려 x\n",
    "2. 0~1번 인덱스 중 1번 인덱스 요소가 들어갈 위치 찾아 넣음\n",
    "3. 0~2번 ..\n",
    "4. 0~n번 .. "
   ]
  },
  {
   "cell_type": "code",
   "execution_count": 4,
   "metadata": {},
   "outputs": [
    {
     "name": "stdout",
     "output_type": "stream",
     "text": [
      "[2, 3, 4, 5, 5, 7, 7, 8]\n"
     ]
    }
   ],
   "source": [
    "def insertSort(lis):\n",
    "    for i in range(1,len(lis)):\n",
    "        #들어갈 위치를 찾아서 넣어줌 (이 과정은 버블정렬과 비슷함)\n",
    "        for j in range(i,0,-1): #뒤에서부터 찾음 \n",
    "            if lis[j]<lis[j-1]:\n",
    "                lis[j],lis[j-1]=lis[j-1],lis[j]\n",
    "            else:\n",
    "                #넣을 부분이 이미 정렬된 부분이라 같거나 작으면\n",
    "                break\n",
    "\n",
    "    return lis\n",
    "\n",
    "lis=[7,3,5,8,7,4,2,5]\n",
    "print(insertSort(lis))"
   ]
  },
  {
   "cell_type": "markdown",
   "metadata": {},
   "source": [
    "4. 퀵 정렬\n",
    "\n",
    "가장 많이 사용되는 정렬 알고리즘\n",
    "병합 정렬과 마찬가지로 분할 정복을 통한 정렬방법\n",
    "-> 차이점은 병합정렬은 분할 단계에서는 아무 것도 하지 않고 병합 단계에서 정렬 수행\n",
    "But, 퀵 정렬은 분할 단계에서 정렬 수행하고 병합 시에는 병합만 함\n",
    "+ 퀵 정렬은 리스트를 비균등하게 분할, 머지소트는 균등하게 분할함\n",
    "\n",
    "퀵 정렬의 시간 복잡도: O(NlogN)\n",
    "최악의 경우: O(n^2) -> 이는 데이터가 정렬되어 있는 경우 n개의 데이터를 n번만큼 해야하기 때문임 \n",
    "\n",
    "피벗이란? \n",
    "- 큰 숫자와 작은 숫자를 교환할 때, 교환하기 위한 기준을 pivot이라고 표현\n",
    "\n",
    "결론적으로, 기준(pivot)을 설정한 다음 큰 수와 작은 수를 교환한 후 리스트를 반으로 나누는 방식으로 동작하는 정렬 알고리즘\n",
    "\n",
    "[수행 과정]\n",
    "1. 피벗을 설정한 후, 왼쪽에서 피벗보다 큰 데이터를 찾고 오른쪽에서 피벗보다 작은 데이터를 찾음\n",
    "-> 이 과정에서 피벗을 중심으로 작은 요소들은 모두 피벗의 왼쪽으로, 큰 요소들은 피벗의 오른쪽으로 옮겨진다\n",
    "2. 부분 리스트들이 더 이상 분할이 불가능할 때까지 반복 (재귀를 사용함으로 종료조건 확실히 있어야 함)\n",
    "\n",
    "이 과정에서 정렬이 됨\n",
    "\n",
    "파이썬으 sort는 퀵 정렬을 기본으로 함. "
   ]
  },
  {
   "cell_type": "code",
   "execution_count": 8,
   "metadata": {},
   "outputs": [
    {
     "name": "stdout",
     "output_type": "stream",
     "text": [
      "[2, 3, 4, 5, 5, 7, 7, 8]\n"
     ]
    }
   ],
   "source": [
    "def quickSort(lis):\n",
    "    #재귀 종료조건 \n",
    "    if len(lis)<=1: return lis\n",
    "\n",
    "    #피벗은 첫번째 원소로 정해줌(별 특별한 이유 없음)\n",
    "    pivot=lis[0]\n",
    "    remains=lis[1:] #index 1~끝까지\n",
    "\n",
    "    left=[];right=[]\n",
    "\n",
    "    #피벗을 기준으로 왼쪽에 작은 거, 오른쪽에 큰\n",
    "    for i in remains:\n",
    "        if pivot>=i:\n",
    "            left.append(i)\n",
    "        else:\n",
    "            right.append(i)\n",
    "\n",
    "    return quickSort(left)+[pivot]+quickSort(right)\n",
    "\n",
    "lis=[7,3,5,8,7,4,2,5]\n",
    "print(quickSort(lis))\n",
    "\n",
    "\"\"\"\n",
    "이 구현은 재귀 호출 시에 새로운 리스트를 생성하여 리턴 -> 메모리 사용 측면에서 비효율적\n",
    "추가 메모리 사용이 적은 in-place 정렬을 많이 이용함 \n",
    "\n",
    "in-place 정렬이 그 low, high 있는 것 -> 추가적으로 해보기 \n",
    "\"\"\""
   ]
  },
  {
   "cell_type": "markdown",
   "metadata": {},
   "source": [
    "5. 계수정렬\n",
    "\n",
    "별도의 리스트를 선언하고 그 안에 정렬에 대한 정보를 담는 알고리즘\n",
    "**데이터의 크기 범위가 제한되어 정수 형태로 표현할 수 있을 때**만 사용할 수 있음.\n",
    "일반적으로 가장 큰 데이터와 가장 작은 데이터의 차이가 1,000,000을 넘지 않을 때 효과적임.\n",
    "\n",
    "1. 가장 큰 데이터와 가장 작은 데이터의 범위가 모두 담길 수 있도록 하나의 리스트 생성\n",
    "2. 처음에는 리스트의 모든 데이터가 0이 되도록 초기화\n",
    "3. 데이터를 하나씩 확인하며 데이터의 값과 동일한 인덱스의 데이터를 1씩 증가시킴\n",
    "\n",
    "데이터 개수 n, 데이터 중 최댓값의 크기 k\n",
    "계수 정렬의 시간 복잡도: O(n+k)\n",
    "계수 정렬의 공간 복잡도: O(n+k)\n",
    "\n",
    "결과적으로, 계수 정렬은 데이터의 크기가 한정되어 있고, 데이터의 크기가 많이 중복되어 있을수록 유리하며 항상 사용할 수는 없다. "
   ]
  },
  {
   "cell_type": "markdown",
   "metadata": {},
   "source": [
    "6. 병합정렬 O(nlogn)\n",
    "\n",
    "최악의 상황에서도 병합정렬, 힙 정렬은 O(nlogn)을 유지하지만 순수한 퀵 정렬은 오히려 O(n^2)의 시간 복잡도가 나온다.\n",
    "\n",
    "병합정렬이란? \n"
   ]
  }
 ],
 "metadata": {
  "kernelspec": {
   "display_name": "Python 3.8.9 64-bit",
   "language": "python",
   "name": "python3"
  },
  "language_info": {
   "codemirror_mode": {
    "name": "ipython",
    "version": 3
   },
   "file_extension": ".py",
   "mimetype": "text/x-python",
   "name": "python",
   "nbconvert_exporter": "python",
   "pygments_lexer": "ipython3",
   "version": "3.8.9"
  },
  "orig_nbformat": 4,
  "vscode": {
   "interpreter": {
    "hash": "31f2aee4e71d21fbe5cf8b01ff0e069b9275f58929596ceb00d14d90e3e16cd6"
   }
  }
 },
 "nbformat": 4,
 "nbformat_minor": 2
}
