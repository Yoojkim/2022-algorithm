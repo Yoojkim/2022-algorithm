{
 "cells": [
  {
   "cell_type": "markdown",
   "metadata": {},
   "source": [
    "문제\n",
    "그래프를 DFS로 탐색한 결과와 BFS로 탐색한 결과를 출력하는 프로그램을 작성하시오. 단, 방문할 수 있는 정점이 여러 개인 경우에는 정점 번호가 작은 것을 먼저 방문하고, 더 이상 방문할 수 있는 점이 없는 경우 종료한다. 정점 번호는 1번부터 N번까지이다.\n",
    "\n",
    "입력\n",
    "첫째 줄에 정점의 개수 N(1 ≤ N ≤ 1,000), 간선의 개수 M(1 ≤ M ≤ 10,000), 탐색을 시작할 정점의 번호 V가 주어진다. 다음 M개의 줄에는 간선이 연결하는 두 정점의 번호가 주어진다. 어떤 두 정점 사이에 여러 개의 간선이 있을 수 있다. 입력으로 주어지는 간선은 양방향이다."
   ]
  },
  {
   "cell_type": "code",
   "execution_count": 3,
   "metadata": {},
   "outputs": [
    {
     "name": "stdout",
     "output_type": "stream",
     "text": [
      "3 1 2 5 4 \n",
      "3 1 4 2 5 \n"
     ]
    }
   ],
   "source": [
    "#예제는 입력받는 것. input() 사용 \n",
    "from collections import deque\n",
    "\n",
    "def dfs(graph,v,visited):\n",
    "    visited[v]=True\n",
    "    print(v,end=' ')\n",
    "\n",
    "    related=sorted(graph[v])\n",
    "    for r in related:\n",
    "        if not visited[r]:\n",
    "            dfs(graph,r,visited)\n",
    "\n",
    "def bfs(graph,v,visited):\n",
    "    queue=deque([v])\n",
    "    visited[v]=True\n",
    "    \n",
    "    while queue:\n",
    "        now=queue.popleft()\n",
    "        print(now,end=' ')\n",
    "        related=sorted(graph[now])\n",
    "\n",
    "        for r in related:\n",
    "            if not visited[r]:\n",
    "                visited[r]=True; queue.append(r)\n",
    "\n",
    "    print()\n",
    "\n",
    "n, m, v=input().split() #string -> int\n",
    "n=int(n)\n",
    "m=int(m)\n",
    "v=int(v)\n",
    "\n",
    "#graph 생성(0 고려없이 생성)\n",
    "graph=[]\n",
    "for i in range(n+1):\n",
    "    graph.append([])\n",
    "\n",
    "for i in range(m):\n",
    "    f, s=input().split() #string -> int\n",
    "    f=int(f); s=int(s)\n",
    "\n",
    "    #중복조건 확인 \n",
    "    if(s not in graph[f]):\n",
    "        graph[f].append(s)\n",
    "    if(f not in graph[s]):\n",
    "        graph[s].append(f)\n",
    "\n",
    "visited_dfs=[False]*(n+1)\n",
    "visited_bfs=[False]*(n+1)\n",
    "\n",
    "dfs(graph,v,visited_dfs); print()\n",
    "bfs(graph,v,visited_bfs)\n"
   ]
  },
  {
   "cell_type": "code",
   "execution_count": 18,
   "metadata": {},
   "outputs": [
    {
     "name": "stdout",
     "output_type": "stream",
     "text": [
      "Help on built-in function sorted in module builtins:\n",
      "\n",
      "sorted(iterable, /, *, key=None, reverse=False)\n",
      "    Return a new list containing all items from the iterable in ascending order.\n",
      "    \n",
      "    A custom key function can be supplied to customize the sort order, and the\n",
      "    reverse flag can be set to request the result in descending order.\n",
      "\n"
     ]
    }
   ],
   "source": [
    "help(sorted)"
   ]
  }
 ],
 "metadata": {
  "kernelspec": {
   "display_name": "Python 3.8.9 64-bit",
   "language": "python",
   "name": "python3"
  },
  "language_info": {
   "codemirror_mode": {
    "name": "ipython",
    "version": 3
   },
   "file_extension": ".py",
   "mimetype": "text/x-python",
   "name": "python",
   "nbconvert_exporter": "python",
   "pygments_lexer": "ipython3",
   "version": "3.8.9"
  },
  "orig_nbformat": 4,
  "vscode": {
   "interpreter": {
    "hash": "31f2aee4e71d21fbe5cf8b01ff0e069b9275f58929596ceb00d14d90e3e16cd6"
   }
  }
 },
 "nbformat": 4,
 "nbformat_minor": 2
}
