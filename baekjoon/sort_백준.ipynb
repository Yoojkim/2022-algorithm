{
 "cells": [
  {
   "cell_type": "markdown",
   "metadata": {},
   "source": [
    "별도의 정렬 라이브러리, 내장함수 사용 없이 구현하여 문제 풀기 "
   ]
  },
  {
   "cell_type": "markdown",
   "metadata": {},
   "source": [
    "2750\n",
    "\n",
    "첫째 줄에 수의 개수 N(1 ≤ N ≤ 1,000)이 주어진다. 둘째 줄부터 N개의 줄에는 수가 주어진다. 이 수는 절댓값이 1,000보다 작거나 같은 정수이다. 수는 중복되지 않는다."
   ]
  },
  {
   "cell_type": "code",
   "execution_count": 5,
   "metadata": {},
   "outputs": [
    {
     "name": "stdout",
     "output_type": "stream",
     "text": [
      "1\n",
      "2\n",
      "3\n",
      "4\n",
      "5\n"
     ]
    }
   ],
   "source": [
    "def quickSort(lis):\n",
    "    if len(lis)<=1:return lis\n",
    "\n",
    "    pivot=lis[0]\n",
    "    remains=lis[1:]\n",
    "\n",
    "    left=[]; right=[]\n",
    "    for i in remains:\n",
    "        if pivot>=i:\n",
    "            left.append(i)\n",
    "        else:\n",
    "            right.append(i)\n",
    "\n",
    "    return quickSort(left)+[pivot]+quickSort(right)\n",
    "\n",
    "cnt=int(input()); lis=[]\n",
    "for i in range(cnt):\n",
    "    lis.append(int(input()))\n",
    "\n",
    "lis=quickSort(lis)\n",
    "\n",
    "for i in lis:\n",
    "    print(i)"
   ]
  },
  {
   "cell_type": "markdown",
   "metadata": {},
   "source": [
    "이렇게 하면 런타임에러 발생 -> 재귀 문제로\n",
    "\n",
    "import sys\n",
    "sys.setrecursionlimit(100000)\n",
    "\n",
    "파이썬은 내부 재귀 한계점이 있어서 이를 다시 재설정해야함 \n",
    "-> 아마 크기가 큰 데이터가 들어왔을 것으로 추측됨 "
   ]
  },
  {
   "cell_type": "code",
   "execution_count": 8,
   "metadata": {},
   "outputs": [
    {
     "name": "stdout",
     "output_type": "stream",
     "text": [
      "2\n",
      "2\n",
      "4\n",
      "5\n",
      "7\n"
     ]
    }
   ],
   "source": [
    "def insertSort(lis):\n",
    "    for i in range(1,len(lis)):\n",
    "        for j in range(i,0,-1):\n",
    "            if lis[j]<lis[j-1]:\n",
    "                lis[j],lis[j-1]=lis[j-1],lis[j]\n",
    "            else:\n",
    "                break\n",
    "\n",
    "    return lis\n",
    "\n",
    "\n",
    "cnt=int(input()); lis=[]\n",
    "for i in range(cnt):\n",
    "    lis.append(int(input()))\n",
    "\n",
    "insertSort(lis)\n",
    "\n",
    "for i in lis:\n",
    "    print(i)"
   ]
  },
  {
   "cell_type": "markdown",
   "metadata": {},
   "source": [
    "2587\n",
    "\n",
    "다섯 개의 자연수가 주어질 때 이들의 평균과 중앙값을 구하는 프로그램을 작성하시오."
   ]
  },
  {
   "cell_type": "code",
   "execution_count": 10,
   "metadata": {},
   "outputs": [
    {
     "name": "stdout",
     "output_type": "stream",
     "text": [
      "34\n",
      "30\n"
     ]
    }
   ],
   "source": [
    "#삽입정렬로 풀기\n",
    "\n",
    "cnt=5\n",
    "res=[]; sum=0\n",
    "for i in range(cnt):\n",
    "    num=int(input())\n",
    "    sum+=num\n",
    "    res.append(num)\n",
    "\n",
    "def insertSort(res):\n",
    "    for i in range(1,len(res)):\n",
    "        for j in range(i,0,-1):\n",
    "            if res[j]<res[j-1]:\n",
    "                res[j],res[j-1]=res[j-1],res[j]\n",
    "            else:\n",
    "                break\n",
    "\n",
    "insertSort(res)\n",
    "print(int(sum/5)); print(res[2])"
   ]
  },
  {
   "cell_type": "markdown",
   "metadata": {},
   "source": [
    "25305\n",
    "\n",
    "\n",
    "2022 연세대학교 미래캠퍼스 슬기로운 코딩생활에 $N$명의 학생들이 응시했다.\n",
    "이들 중 점수가 가장 높은 $k$명은 상을 받을 것이다. 이 때, 상을 받는 커트라인이 몇 점인지 구하라.\n",
    "커트라인이란 상을 받는 사람들 중 점수가 가장 가장 낮은 사람의 점수를 말한다.\n",
    "\n",
    "첫째 줄에는 응시자의 수 $N$과 상을 받는 사람의 수 $k$가 공백을 사이에 두고 주어진다.\n",
    "둘째 줄에는 각 학생의 점수 $x$가 공백을 사이에 두고 주어진다."
   ]
  },
  {
   "cell_type": "code",
   "execution_count": 11,
   "metadata": {},
   "outputs": [
    {
     "name": "stdout",
     "output_type": "stream",
     "text": [
      "98\n"
     ]
    }
   ],
   "source": [
    "#오름차순으로 정렬\n",
    "n,k=input().split()\n",
    "n=int(n); k=int(k)\n",
    "scores=input().split()\n",
    "\n",
    "for i in range(len(scores)):\n",
    "    scores[i]=int(scores[i])\n",
    "\n",
    "#퀵 정렬은 sys 안 쓰면 재귀 Error\n",
    "def insertSort(res):\n",
    "    for i in range(1,len(res)):\n",
    "        for j in range(i,0,-1):\n",
    "            if res[j]>res[j-1]:\n",
    "                res[j-1],res[j]=res[j],res[j-1]\n",
    "            else:\n",
    "                break\n",
    "\n",
    "insertSort(scores)\n",
    "\n",
    "print(scores[k-1])"
   ]
  },
  {
   "cell_type": "markdown",
   "metadata": {},
   "source": [
    "2751\n",
    "\n",
    "N개의 수가 주어졌을 때, 이를 오름차순으로 정렬하는 프로그램을 작성하시오.\n",
    "\n",
    "* 퀵정렬로 풀 수 있지만 sys 라이브러리 필요함 "
   ]
  },
  {
   "cell_type": "code",
   "execution_count": null,
   "metadata": {},
   "outputs": [],
   "source": []
  }
 ],
 "metadata": {
  "kernelspec": {
   "display_name": "Python 3.8.9 64-bit",
   "language": "python",
   "name": "python3"
  },
  "language_info": {
   "codemirror_mode": {
    "name": "ipython",
    "version": 3
   },
   "file_extension": ".py",
   "mimetype": "text/x-python",
   "name": "python",
   "nbconvert_exporter": "python",
   "pygments_lexer": "ipython3",
   "version": "3.8.9"
  },
  "orig_nbformat": 4,
  "vscode": {
   "interpreter": {
    "hash": "31f2aee4e71d21fbe5cf8b01ff0e069b9275f58929596ceb00d14d90e3e16cd6"
   }
  }
 },
 "nbformat": 4,
 "nbformat_minor": 2
}
