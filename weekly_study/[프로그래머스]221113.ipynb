{
 "cells": [
  {
   "cell_type": "markdown",
   "metadata": {},
   "source": [
    "자연수 n이 매개변수로 주어집니다. n을 x로 나눈 나머지가 1이 되도록 하는 가장 작은 자연수 x를 return 하도록 solution 함수를 완성해주세요. 답이 항상 존재함은 증명될 수 있습니다."
   ]
  },
  {
   "cell_type": "code",
   "execution_count": null,
   "metadata": {},
   "outputs": [],
   "source": [
    "def solution(n):\n",
    "    for i in range(1,n):\n",
    "        if n%i==1: #답이 항상 존재함\n",
    "            return i"
   ]
  },
  {
   "cell_type": "markdown",
   "metadata": {},
   "source": [
    "두 정수 a, b가 주어졌을 때 a와 b 사이에 속한 모든 정수의 합을 리턴하는 함수, solution을 완성하세요.\n",
    "예를 들어 a = 3, b = 5인 경우, 3 + 4 + 5 = 12이므로 12를 리턴합니다."
   ]
  },
  {
   "cell_type": "code",
   "execution_count": null,
   "metadata": {},
   "outputs": [],
   "source": [
    "def solution(a,b):\n",
    "    if a>b:\n",
    "        a,b=b,a\n",
    "\n",
    "    res=0\n",
    "    for i in range(a,b+1):\n",
    "        res+=i\n",
    "\n",
    "    return res"
   ]
  },
  {
   "cell_type": "markdown",
   "metadata": {},
   "source": [
    "1-1. 입력된 수가 짝수라면 2로 나눕니다. \n",
    "1-2. 입력된 수가 홀수라면 3을 곱하고 1을 더합니다. \n",
    "2. 결과로 나온 수에 같은 작업을 1이 될 때까지 반복합니다.\n",
    "\n",
    "예를 들어, 주어진 수가 6이라면 6 → 3 → 10 → 5 → 16 → 8 → 4 → 2 → 1 이 되어 총 8번 만에 1이 됩니다. 위 작업을 몇 번이나 반복해야 하는지 반환하는 함수, solution을 완성해 주세요. 단, 주어진 수가 1인 경우에는 0을, 작업을 500번 반복할 때까지 1이 되지 않는다면 –1을 반환해 주세요."
   ]
  },
  {
   "cell_type": "code",
   "execution_count": 5,
   "metadata": {},
   "outputs": [
    {
     "name": "stdout",
     "output_type": "stream",
     "text": [
      "0\n"
     ]
    }
   ],
   "source": [
    "def solution(n):\n",
    "\n",
    "    cnt=0 \n",
    "\n",
    "    while cnt!=500:\n",
    "        if n==1: return cnt #처음부터 1 들어오는 경우 고려 \n",
    "\n",
    "        if n%2==0:\n",
    "            n//=2\n",
    "        else:\n",
    "            n=(n*3)+1\n",
    "\n",
    "        cnt+=1\n",
    "\n",
    "        if n==1: return cnt\n",
    "\n",
    "    return -1\n",
    "\n",
    "k=1\n",
    "print(solution(k))"
   ]
  },
  {
   "cell_type": "markdown",
   "metadata": {},
   "source": [
    "String형 배열 seoul의 element중 \"Kim\"의 위치 x를 찾아, \"김서방은 x에 있다\"는 String을 반환하는 함수, solution을 완성하세요. seoul에 \"Kim\"은 오직 한 번만 나타나며 잘못된 값이 입력되는 경우는 없습니다."
   ]
  },
  {
   "cell_type": "code",
   "execution_count": 11,
   "metadata": {},
   "outputs": [
    {
     "name": "stdout",
     "output_type": "stream",
     "text": [
      "김서방은 1에 있다\n"
     ]
    }
   ],
   "source": [
    "def equal(a,b):\n",
    "    if len(a)!=len(b): return False\n",
    "\n",
    "    for i in range(len(a)):\n",
    "        if a[i]!=b[i]:\n",
    "            return False\n",
    "            \n",
    "    return True\n",
    "\n",
    "def solution(seoul):\n",
    "\n",
    "    res=0\n",
    "    for s in range(len(seoul)):\n",
    "        if equal(seoul[s],\"Kim\"):\n",
    "            res=s; break\n",
    "    \n",
    "    return \"김서방은 \"+str(res)+\"에 있다\"\n",
    "\n",
    "print(solution([\"Jane\", \"Kim\"]))"
   ]
  },
  {
   "cell_type": "markdown",
   "metadata": {},
   "source": [
    "== 안돼서 객체라 안되는 것인가 해서 equal 이라는 메소드 만들었는데 알고보니 Kim이 아니라 kim으로 (소문자로) 했었음.\n",
    "주의하기 \n",
    "\n",
    "* is, ==의 차이\n",
    "- is는 변수의 객체가 같을 때 True\n",
    "- ==는 변수의 값이 같을 때 True "
   ]
  },
  {
   "cell_type": "markdown",
   "metadata": {},
   "source": [
    "프로그래머스 모바일은 개인정보 보호를 위해 고지서를 보낼 때 고객들의 전화번호의 일부를 가립니다.\n",
    "전화번호가 문자열 phone_number로 주어졌을 때, 전화번호의 뒷 4자리를 제외한 나머지 숫자를 전부 *으로 가린 문자열을 리턴하는 함수, solution을 완성해주세요.\n",
    "\n",
    "https://school.programmers.co.kr/learn/courses/30/lessons/12948"
   ]
  },
  {
   "cell_type": "code",
   "execution_count": 1,
   "metadata": {},
   "outputs": [
    {
     "name": "stdout",
     "output_type": "stream",
     "text": [
      "*******4444\n"
     ]
    }
   ],
   "source": [
    "def solution(phone_number):\n",
    "\n",
    "    size=len(phone_number)\n",
    "    star=size-4\n",
    "\n",
    "    return '*'*star+phone_number[size-4:]\n",
    "\n",
    "print(solution(\"*******4444\"))\n",
    "\n"
   ]
  },
  {
   "cell_type": "markdown",
   "metadata": {},
   "source": [
    "해설)\n",
    "\n",
    "전체 길이를 구해서 *로 표시할 부분을 계산하고 슬라이싱 기법을 통하여 남은 부분을 붙여준다.\n",
    "근데 인덱스 헷갈려서 3분정도 걸림 ㅎㅎ 이런 거 좀 헷갈린다\n",
    "\n",
    "슬라이싱 기법으로 [-4:] 이렇게 표현해도 됨.\n",
    "마지막 4번째 요소부터 마지막까지 라는 뜻"
   ]
  },
  {
   "cell_type": "markdown",
   "metadata": {},
   "source": [
    "array의 각 element 중 divisor로 나누어 떨어지는 값을 오름차순으로 정렬한 배열을 반환하는 함수, solution을 작성해주세요.\n",
    "divisor로 나누어 떨어지는 element가 하나도 없다면 배열에 -1을 담아 반환하세요."
   ]
  },
  {
   "cell_type": "code",
   "execution_count": null,
   "metadata": {},
   "outputs": [],
   "source": [
    "def solution(arr,divisor):\n",
    "    #sort 사용 없이 구현\n",
    "\n",
    "    res=[]\n",
    "    for a in arr:\n",
    "        if(a%divisor==0):\n",
    "            res.append(a)\n",
    "\n",
    "    if len(res)==0:\n",
    "        res.append(-1)\n",
    "    \n",
    "    res.sort()\n",
    "\n",
    "    return res"
   ]
  },
  {
   "cell_type": "markdown",
   "metadata": {},
   "source": [
    "https://questionet.tistory.com/61 참고 (python sort, sorted 관련)\n",
    "\n",
    "할 일) 내장 sort 사용 안 하고 구현"
   ]
  },
  {
   "cell_type": "markdown",
   "metadata": {},
   "source": [
    "정수를 저장한 배열, arr 에서 가장 작은 수를 제거한 배열을 리턴하는 함수, solution을 완성해주세요. 단, 리턴하려는 배열이 빈 배열인 경우엔 배열에 -1을 채워 리턴하세요. 예를들어 arr이 [4,3,2,1]인 경우는 [4,3,2]를 리턴 하고, [10]면 [-1]을 리턴 합니다."
   ]
  },
  {
   "cell_type": "code",
   "execution_count": 3,
   "metadata": {},
   "outputs": [
    {
     "name": "stdout",
     "output_type": "stream",
     "text": [
      "[4, 3, 2]\n"
     ]
    }
   ],
   "source": [
    "def solution(arr):\n",
    "    size=len(arr)\n",
    "    if size==0: return [-1]\n",
    "\n",
    "    min=arr[0]; minIdx=0\n",
    "    for a in range(size):\n",
    "        if min>arr[a]:\n",
    "            min=arr[a]; minIdx=a\n",
    "    \n",
    "    res=[]\n",
    "    for k in range(size):\n",
    "        if minIdx!=k:\n",
    "            res.append(arr[k])\n",
    "\n",
    "    return res\n",
    "\n",
    "print(solution([4,3,2,1]))"
   ]
  },
  {
   "cell_type": "markdown",
   "metadata": {},
   "source": [
    "예전엔 min, remove 써서 풀었는데 굳이 싶어서 그냥 직접 풀었다.\n",
    "어차피 시간복잡도 똑같아서 그냥 풀어서 함"
   ]
  },
  {
   "cell_type": "markdown",
   "metadata": {},
   "source": [
    "어떤 정수들이 있습니다. 이 정수들의 절댓값을 차례대로 담은 정수 배열 absolutes와 이 정수들의 부호를 차례대로 담은 불리언 배열 signs가 매개변수로 주어집니다. 실제 정수들의 합을 구하여 return 하도록 solution 함수를 완성해주세요."
   ]
  },
  {
   "cell_type": "code",
   "execution_count": null,
   "metadata": {},
   "outputs": [],
   "source": [
    "def solution(absolutes, signs):\n",
    "    size=len(absolutes)\n",
    "\n",
    "    res=0\n",
    "    for i in range(size):\n",
    "        if signs[i]==True:\n",
    "            res+=absolutes[i]\n",
    "        else:\n",
    "            res+=absolutes[i]*-1\n",
    "\n",
    "    return res"
   ]
  },
  {
   "cell_type": "markdown",
   "metadata": {},
   "source": [
    "0부터 9까지의 숫자 중 일부가 들어있는 정수 배열 numbers가 매개변수로 주어집니다. numbers에서 찾을 수 없는 0부터 9까지의 숫자를 모두 찾아 더한 수를 return 하도록 solution 함수를 완성해주세요.\n",
    "\n",
    "https://school.programmers.co.kr/learn/courses/30/lessons/86051"
   ]
  },
  {
   "cell_type": "code",
   "execution_count": 1,
   "metadata": {},
   "outputs": [
    {
     "name": "stdout",
     "output_type": "stream",
     "text": [
      "14\n"
     ]
    }
   ],
   "source": [
    "def solution(numbers):\n",
    "    #n^2\n",
    "\n",
    "    res=0\n",
    "\n",
    "    for i in range(0,10):\n",
    "        flag=False\n",
    "        for n in numbers:\n",
    "            if n==i:\n",
    "                flag=True\n",
    "        if not flag:\n",
    "            res+=i\n",
    "\n",
    "    return res\n",
    "\n",
    "print(solution([1,2,3,4,6,7,8,0]))\n"
   ]
  },
  {
   "cell_type": "markdown",
   "metadata": {},
   "source": [
    "단어 s의 가운데 글자를 반환하는 함수, solution을 만들어 보세요. 단어의 길이가 짝수라면 가운데 두글자를 반환하면 됩니다."
   ]
  },
  {
   "cell_type": "code",
   "execution_count": 3,
   "metadata": {},
   "outputs": [
    {
     "name": "stdout",
     "output_type": "stream",
     "text": [
      "bc\n"
     ]
    }
   ],
   "source": [
    "def solution(s):\n",
    "    size=len(s)\n",
    "    \n",
    "    if size%2==0:\n",
    "        mid=size//2\n",
    "        return s[mid-1]+s[mid]\n",
    "\n",
    "    else:\n",
    "        mid=size//2\n",
    "        return s[mid]\n",
    "\n",
    "print(solution(\"abcd\"))"
   ]
  },
  {
   "cell_type": "markdown",
   "metadata": {},
   "source": [
    "길이가 n이고, \"수박수박수박수....\"와 같은 패턴을 유지하는 문자열을 리턴하는 함수, solution을 완성하세요. 예를들어 n이 4이면 \"수박수박\"을 리턴하고 3이라면 \"수박수\"를 리턴하면 됩니다."
   ]
  },
  {
   "cell_type": "code",
   "execution_count": 7,
   "metadata": {},
   "outputs": [
    {
     "name": "stdout",
     "output_type": "stream",
     "text": [
      "수\n"
     ]
    }
   ],
   "source": [
    "def solution(n):\n",
    "    res=\"\"\n",
    "    flag=True\n",
    "    while n!=0:\n",
    "        if flag:\n",
    "            res+=\"수\";flag=False\n",
    "        else: \n",
    "            res+=\"박\";flag=True\n",
    "        n-=1\n",
    "\n",
    "    return res\n",
    "\n",
    "print(solution(1))\n"
   ]
  },
  {
   "cell_type": "markdown",
   "metadata": {},
   "source": [
    "길이가 같은 두 1차원 정수 배열 a, b가 매개변수로 주어집니다. a와 b의 내적을 return 하도록 solution 함수를 완성해주세요.\n",
    "\n",
    "이때, a와 b의 내적은 a[0]*b[0] + a[1]*b[1] + ... + a[n-1]*b[n-1] 입니다. (n은 a, b의 길이)"
   ]
  },
  {
   "cell_type": "code",
   "execution_count": 8,
   "metadata": {},
   "outputs": [
    {
     "name": "stdout",
     "output_type": "stream",
     "text": [
      "3\n"
     ]
    }
   ],
   "source": [
    "def solution(a,b):\n",
    "    size=len(a)\n",
    "    res=0\n",
    "\n",
    "    for i in range(size):\n",
    "        res+=a[i]*b[i]\n",
    "\n",
    "    return res\n",
    "\n",
    "\n",
    "print(solution([1,2,3,4],[-3,-1,0,2]))"
   ]
  },
  {
   "cell_type": "markdown",
   "metadata": {},
   "source": [
    "문자열 s에 나타나는 문자를 큰것부터 작은 순으로 정렬해 새로운 문자열을 리턴하는 함수, solution을 완성해주세요.\n",
    "s는 영문 대소문자로만 구성되어 있으며, 대문자는 소문자보다 작은 것으로 간주합니다.\n",
    "\n",
    "sorted, sort 사용 없이"
   ]
  },
  {
   "cell_type": "code",
   "execution_count": null,
   "metadata": {},
   "outputs": [],
   "source": []
  },
  {
   "cell_type": "markdown",
   "metadata": {},
   "source": [
    "문자열 s의 길이가 4 혹은 6이고, 숫자로만 구성돼있는지 확인해주는 함수, solution을 완성하세요. 예를 들어 s가 \"a234\"이면 False를 리턴하고 \"1234\"라면 True를 리턴하면 됩니다."
   ]
  },
  {
   "cell_type": "code",
   "execution_count": null,
   "metadata": {},
   "outputs": [],
   "source": [
    "def solution(s):\n",
    "    size=len(s)\n",
    "    if size!=4 and size!=6: return False\n",
    "\n",
    "    flag=True\n",
    "    try:\n",
    "        int(s); \n",
    "    except:\n",
    "        flag=False\n",
    "\n",
    "    return flag\n",
    "\n",
    "print(solution())\n"
   ]
  },
  {
   "cell_type": "markdown",
   "metadata": {},
   "source": [
    "두 정수 left와 right가 매개변수로 주어집니다. left부터 right까지의 모든 수들 중에서, 약수의 개수가 짝수인 수는 더하고, 약수의 개수가 홀수인 수는 뺀 수를 return 하도록 solution 함수를 완성해주세요."
   ]
  },
  {
   "cell_type": "code",
   "execution_count": 34,
   "metadata": {},
   "outputs": [
    {
     "name": "stdout",
     "output_type": "stream",
     "text": [
      "52\n"
     ]
    }
   ],
   "source": [
    "def solution(left,right):\n",
    "    res=0\n",
    "\n",
    "    for i in range(left,right+1):\n",
    "        if divisorCnt(i)%2==0:\n",
    "            res+=i\n",
    "        else:\n",
    "            res-=i\n",
    "\n",
    "    return res\n",
    "\n",
    "def divisorCnt(num):\n",
    "    cnt=0\n",
    "    for i in range(1,num//2+1):\n",
    "        if num%i==0: cnt+=1\n",
    "    return cnt+1\n",
    "\n",
    "print(solution(24,27))\n"
   ]
  },
  {
   "cell_type": "markdown",
   "metadata": {},
   "source": [
    "자기 자신도 약수로 가진다는 점을 깜빡함 ㅎㅎ\n",
    "계속 음수가 나와서 당황.. "
   ]
  },
  {
   "cell_type": "markdown",
   "metadata": {},
   "source": [
    "문자열 s에는 공백으로 구분된 숫자들이 저장되어 있습니다. str에 나타나는 숫자 중 최소값과 최대값을 찾아 이를 \"(최소값) (최대값)\"형태의 문자열을 반환하는 함수, solution을 완성하세요.\n",
    "예를들어 s가 \"1 2 3 4\"라면 \"1 4\"를 리턴하고, \"-1 -2 -3 -4\"라면 \"-4 -1\"을 리턴하면 됩니다."
   ]
  },
  {
   "cell_type": "code",
   "execution_count": 40,
   "metadata": {},
   "outputs": [
    {
     "name": "stdout",
     "output_type": "stream",
     "text": [
      "-4 -1\n",
      "1 4\n",
      "-1 -1\n"
     ]
    }
   ],
   "source": [
    "def solution(s):\n",
    "    #split 안 쓰고 풀어보기\n",
    "\n",
    "    min=9999999999; max=-99999999999; \n",
    "    idx=0\n",
    "    while idx<len(s):\n",
    "        try:\n",
    "            sInt=int(s[idx])\n",
    "            if min>sInt: min=sInt\n",
    "            if max<sInt: max=sInt\n",
    "            idx+=1\n",
    "\n",
    "        except:\n",
    "            if s[idx]=='-':\n",
    "                sInt=int(s[idx+1])*-1\n",
    "                if min>sInt: min=sInt\n",
    "                if max<sInt: max=sInt\n",
    "                idx+=2\n",
    "            else:\n",
    "                idx+=1\n",
    "            continue\n",
    "    \n",
    "    return str(min)+\" \"+str(max)\n",
    "\n",
    "print(solution(\"-1 -2 -3 -4\"))\n",
    "print(solution(\"1 2 3 4\"))\n",
    "print(solution(\"-1 -1\"))\n",
    "\n"
   ]
  },
  {
   "cell_type": "markdown",
   "metadata": {},
   "source": [
    "이 풀이 실패-> 꼭 한글자라는 보장이 없음 "
   ]
  },
  {
   "cell_type": "code",
   "execution_count": 41,
   "metadata": {},
   "outputs": [
    {
     "name": "stdout",
     "output_type": "stream",
     "text": [
      "-4 -1\n"
     ]
    }
   ],
   "source": [
    "def solution(s):\n",
    "    #숫자 분할 함수 구현\n",
    "    splitList=customSplit(s)\n",
    "\n",
    "    min=9999999999; max=-9999999999\n",
    "    for i in splitList:\n",
    "        num=int(i)\n",
    "\n",
    "        if num<min: min=num\n",
    "        if num>max: max=num\n",
    "    \n",
    "    return str(min)+\" \"+str(max)\n",
    "\n",
    "\n",
    "\n",
    "def customSplit(s):\n",
    "    res=[]\n",
    "\n",
    "    temp=\"\"\n",
    "    for i in s:\n",
    "        #현재 문자 확인\n",
    "        if i==' ':\n",
    "            if len(temp)!=0:\n",
    "                res.append(temp)\n",
    "                temp=\"\"\n",
    "        else:\n",
    "            temp+=i\n",
    "        \n",
    "    if len(temp)!=0:\n",
    "        res.append(temp)\n",
    "\n",
    "    return res\n",
    "\n",
    "print(solution(\"-1 -2 -3 -4\"))\n"
   ]
  },
  {
   "cell_type": "markdown",
   "metadata": {},
   "source": [
    "새로 생긴 놀이기구는 인기가 매우 많아 줄이 끊이질 않습니다. 이 놀이기구의 원래 이용료는 price원 인데, 놀이기구를 N 번 째 이용한다면 원래 이용료의 N배를 받기로 하였습니다. 즉, 처음 이용료가 100이었다면 2번째에는 200, 3번째에는 300으로 요금이 인상됩니다.\n",
    "놀이기구를 count번 타게 되면 현재 자신이 가지고 있는 금액에서 얼마가 모자라는지를 return 하도록 solution 함수를 완성하세요.\n",
    "단, 금액이 부족하지 않으면 0을 return 하세요."
   ]
  },
  {
   "cell_type": "code",
   "execution_count": 43,
   "metadata": {},
   "outputs": [
    {
     "name": "stdout",
     "output_type": "stream",
     "text": [
      "-10\n"
     ]
    }
   ],
   "source": [
    "def solution(price,money,count):\n",
    "\n",
    "    temp=0\n",
    "    for i in range(1,count+1):\n",
    "        temp+=i\n",
    "    \n",
    "    res=money-price*temp\n",
    "    if res>=0: return 0\n",
    "    else: return res*-1\n",
    "\n",
    "print(solution(3,20,4))\n"
   ]
  },
  {
   "cell_type": "markdown",
   "metadata": {},
   "source": [
    "행렬의 덧셈은 행과 열의 크기가 같은 두 행렬의 같은 행, 같은 열의 값을 서로 더한 결과가 됩니다. 2개의 행렬 arr1과 arr2를 입력받아, 행렬 덧셈의 결과를 반환하는 함수, solution을 완성해주세요."
   ]
  },
  {
   "cell_type": "code",
   "execution_count": 46,
   "metadata": {},
   "outputs": [
    {
     "name": "stdout",
     "output_type": "stream",
     "text": [
      "[[4, 6], [7, 9]]\n",
      "[[4], [6]]\n"
     ]
    }
   ],
   "source": [
    "def solution(arr1, arr2):\n",
    "    res=[]; \n",
    "\n",
    "    for i in range(len(arr1)):\n",
    "        tempRow=[]\n",
    "        #row 중심으로 계산\n",
    "        for j in range(len(arr1[0])):\n",
    "            tempRow.append(arr1[i][j]+arr2[i][j])\n",
    "        res.append(tempRow)\n",
    "\n",
    "    return res\n",
    "\n",
    "print(solution([[1,2],[2,3]],[[3,4],[5,6]]))\n",
    "print(solution([[1],[2]],\t[[3],[4]]))"
   ]
  },
  {
   "cell_type": "markdown",
   "metadata": {},
   "source": [
    "자연수 n이 매개변수로 주어집니다. n을 3진법 상에서 앞뒤로 뒤집은 후, 이를 다시 10진법으로 표현한 수를 return 하도록 solution 함수를 완성해주세요."
   ]
  },
  {
   "cell_type": "code",
   "execution_count": 60,
   "metadata": {},
   "outputs": [
    {
     "name": "stdout",
     "output_type": "stream",
     "text": [
      "7\n"
     ]
    }
   ],
   "source": [
    "def solution(n):\n",
    "    res3=\"\"\n",
    "    while n>=3:\n",
    "        res3+=str(n%3)\n",
    "        n=n//3\n",
    "\n",
    "    res3+=str(n)\n",
    "\n",
    "\n",
    "    temp=1; res10=0\n",
    "    for j in range(len(res3)-1,-1,-1):\n",
    "        res10+=temp*int(res3[j])\n",
    "        temp*=3\n",
    "\n",
    "    return res10\n",
    "\n",
    "print(solution(45))\n"
   ]
  }
 ],
 "metadata": {
  "kernelspec": {
   "display_name": "Python 3.8.9 64-bit",
   "language": "python",
   "name": "python3"
  },
  "language_info": {
   "codemirror_mode": {
    "name": "ipython",
    "version": 3
   },
   "file_extension": ".py",
   "mimetype": "text/x-python",
   "name": "python",
   "nbconvert_exporter": "python",
   "pygments_lexer": "ipython3",
   "version": "3.8.9"
  },
  "orig_nbformat": 4,
  "vscode": {
   "interpreter": {
    "hash": "31f2aee4e71d21fbe5cf8b01ff0e069b9275f58929596ceb00d14d90e3e16cd6"
   }
  }
 },
 "nbformat": 4,
 "nbformat_minor": 2
}
