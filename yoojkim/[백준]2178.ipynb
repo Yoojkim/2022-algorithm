{
 "cells": [
  {
   "cell_type": "markdown",
   "metadata": {},
   "source": [
    "미로에서 1은 이동할 수 있는 칸을 나타내고, 0은 이동할 수 없는 칸을 나타낸다. 이러한 미로가 주어졌을 때, (1, 1)에서 출발하여 (N, M)의 위치로 이동할 때 지나야 하는 최소의 칸 수를 구하는 프로그램을 작성하시오. 한 칸에서 다른 칸으로 이동할 때, 서로 인접한 칸으로만 이동할 수 있다.\n",
    "\n",
    "위의 예에서는 15칸을 지나야 (N, M)의 위치로 이동할 수 있다. 칸을 셀 때에는 시작 위치와 도착 위치도 포함한다."
   ]
  },
  {
   "cell_type": "code",
   "execution_count": 3,
   "metadata": {},
   "outputs": [
    {
     "name": "stdout",
     "output_type": "stream",
     "text": [
      "15\n"
     ]
    }
   ],
   "source": [
    "def dfs(maze,stack,n,m,dn,dm):\n",
    "    if(maze[n][m]!=1):\n",
    "        return False,0\n",
    "\n",
    "    if (n,m) in stack:\n",
    "        return False,0\n",
    "\n",
    "    stack.add((n,m))\n",
    "\n",
    "    if n==dn and m==dm:\n",
    "        return True,1\n",
    "\n",
    "    direction=[(-1,0),(1,0),(0,-1),(0,1)]\n",
    "    tempValue=9999; flag=False\n",
    "    for d in direction:\n",
    "        if(n+d[0]>=0 and n+d[0]<len(maze) and m+d[1]>=0 and m+d[1]<len(maze[0])):\n",
    "            newStack=stack.copy()\n",
    "            res=dfs(maze,newStack,n+d[0],m+d[1],dn,dm)\n",
    "            if res[0]:\n",
    "                if tempValue>res[1]:\n",
    "                    tempValue=res[1]; flag=True\n",
    "\n",
    "    if flag: return True,tempValue+1\n",
    "    else: return False,0\n",
    "\n",
    "dn,dm=input().split()\n",
    "dn=int(dn); dm=int(dm)\n",
    "\n",
    "maze=[]\n",
    "for i in range (dn):\n",
    "    mazeRowStr=input()\n",
    "    mazeRowRes=[]\n",
    "    for r in mazeRowStr:\n",
    "        mazeRowRes.append(int(r))\n",
    "    maze.append(mazeRowRes)\n",
    "\n",
    "stack=set()\n",
    "print(dfs(maze,stack,0,0,dn-1,dm-1)[1])\n",
    "\n",
    "#시간초과 (깊이 우선 탐색은 최단거리에 적합하지 않음)"
   ]
  },
  {
   "cell_type": "code",
   "execution_count": 2,
   "metadata": {},
   "outputs": [
    {
     "name": "stdout",
     "output_type": "stream",
     "text": [
      "15\n"
     ]
    }
   ],
   "source": [
    "from collections import deque\n",
    "\n",
    "def bfs(maze,visited,n,m):\n",
    "    dn=len(maze)-1; dm=len(maze[0])-1\n",
    "    queue=deque()\n",
    "    queue.append((n,m))\n",
    "\n",
    "    direction=[(-1,0),(1,0),(0,-1),(0,1)]\n",
    "\n",
    "    while queue:\n",
    "        now=queue.popleft()\n",
    "\n",
    "        #상하좌우 가능\n",
    "        for d in direction:\n",
    "            new=(now[0]+d[0],now[1]+d[1])\n",
    "            if(new[0]>=0 and new[0]<len(maze) and new[1]>=0 and new[1]<len(maze[0]) and \\\n",
    "                maze[new[0]][new[1]]==1 and visited[new[0]][new[1]]==False):\n",
    "\n",
    "                #방문\n",
    "                visited[new[0]][new[1]]=True; maze[new[0]][new[1]]+=maze[now[0]][now[1]]\n",
    "\n",
    "                #큐에 넣기 (다음 bfs를 위함)\n",
    "                queue.append(new)\n",
    "\n",
    "        if new[0]==dn and new[1]==dm: break;\n",
    "\n",
    "    return maze[dn][dm]\n",
    "                \n",
    "dn,dm=input().split()\n",
    "dn=int(dn); dm=int(dm)\n",
    "\n",
    "maze=[]\n",
    "visited=[]\n",
    "for i in range (dn):\n",
    "    mazeRowStr=input()\n",
    "    mazeRowRes=[]\n",
    "    visitedRow=[]\n",
    "    for r in mazeRowStr:\n",
    "        mazeRowRes.append(int(r))\n",
    "        visitedRow.append(False)\n",
    "    maze.append(mazeRowRes)\n",
    "    visited.append(visitedRow)\n",
    "\n",
    "print(bfs(maze,visited,0,0))"
   ]
  },
  {
   "cell_type": "markdown",
   "metadata": {},
   "source": [
    "## 풀이\n",
    "\n",
    "처음에는 DFS로 문제를 해결했다. \n",
    "1. 정확한 결과가 나오지 않음\n",
    "깊이우선에서 해당 시점에서 중복을 걸러야 하고, 여러 갈래에서 각자 다른 중복 여부를 가져야 했다. \n",
    "이 과정에서 정확도가 낮아짐\n",
    "-> 재귀 시점에서 중복 여부를 나타내는 집합을 copy하여 사용했더니 정확도 해결\n",
    "어차피 스택에 저장되고 재귀 끝나면 메모리 사라져서 크게 상관 안 함 \n",
    "\n",
    "2. 시간초과\n",
    "1에서 정확도를 해결하였지만 시간 초과 문제 발생.\n",
    "이는 아무래도 DFS의 특성 때문이라고 생각함. 여러 갈래가 발생하고 거기서 끝까지 간 후 돌아오기 때문에 오래걸림\n",
    "운이 안 좋으면 진짜 오래걸림 그래서 이 문제에서는 DFS가 적합하지 않음. 넓게 찾아서 최대한 빨리 찾을 수 있는 BFS가 적합하다고 판단\n",
    "\n",
    "이후, BFS로 코드 수정\n",
    "여기서 특정 지점까지 간 횟수는 그 지점의 maze 값을 변경하여 계산함. 중복 여부 고려 하고 값 변경 안 해도 됨. (어차피 visited로 갔는지 검사하고 값 바꿔준다.)\n",
    "BFS를 사용하니 너비 우선으로 접근하여 최악의 경우에도 시간 초과가 발생하지 않음. \n",
    "\n",
    "그리고 항상 헷갈렸던 BFS에서의 큐에 넣을 때, visited, 값 여부 등등 변경해줘야 한다는 것 주의.\n",
    "뺄 때 하면 중복이 필연적으로 생김.\n"
   ]
  }
 ],
 "metadata": {
  "kernelspec": {
   "display_name": "Python 3.8.9 64-bit",
   "language": "python",
   "name": "python3"
  },
  "language_info": {
   "codemirror_mode": {
    "name": "ipython",
    "version": 3
   },
   "file_extension": ".py",
   "mimetype": "text/x-python",
   "name": "python",
   "nbconvert_exporter": "python",
   "pygments_lexer": "ipython3",
   "version": "3.8.9"
  },
  "orig_nbformat": 4,
  "vscode": {
   "interpreter": {
    "hash": "31f2aee4e71d21fbe5cf8b01ff0e069b9275f58929596ceb00d14d90e3e16cd6"
   }
  }
 },
 "nbformat": 4,
 "nbformat_minor": 2
}
