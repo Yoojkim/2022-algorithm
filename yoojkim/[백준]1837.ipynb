{
 "cells": [
  {
   "cell_type": "markdown",
   "metadata": {},
   "source": [
    "## 문제\n",
    "코레스코 콘도미니엄 8층은 학생들이 3끼의 식사를 해결하는 공간이다. 그러나 몇몇 비양심적인 학생들의 만행으로 음식물이 통로 중간 중간에 떨어져 있다. 이러한 음식물들은 근처에 있는 것끼리 뭉치게 돼서 큰 음식물 쓰레기가 된다. \n",
    "\n",
    "이 문제를 출제한 선생님은 개인적으로 이러한 음식물을 실내화에 묻히는 것을 정말 진정으로 싫어한다. 참고로 우리가 구해야 할 답은 이 문제를 낸 조교를 맞추는 것이 아니다. \n",
    "\n",
    "통로에 떨어진 음식물을 피해가기란 쉬운 일이 아니다. 따라서 선생님은 떨어진 음식물 중에 제일 큰 음식물만은 피해 가려고 한다. \n",
    "\n",
    "## 입력\n",
    "첫째 줄에 통로의 세로 길이 N(1 ≤ N ≤ 100)과 가로 길이 M(1 ≤ M ≤ 100) 그리고 음식물 쓰레기의 개수 K(1 ≤ K ≤ N×M)이 주어진다.  그리고 다음 K개의 줄에 음식물이 떨어진 좌표 (r, c)가 주어진다.\n",
    "\n",
    "좌표 (r, c)의 r은 위에서부터, c는 왼쪽에서부터가 기준이다. 입력으로 주어지는 좌표는 중복되지 않는다."
   ]
  },
  {
   "cell_type": "code",
   "execution_count": 1,
   "metadata": {},
   "outputs": [
    {
     "ename": "ValueError",
     "evalue": "not enough values to unpack (expected 3, got 0)",
     "output_type": "error",
     "traceback": [
      "\u001b[0;31m---------------------------------------------------------------------------\u001b[0m",
      "\u001b[0;31mValueError\u001b[0m                                Traceback (most recent call last)",
      "Cell \u001b[0;32mIn [1], line 24\u001b[0m\n\u001b[1;32m     20\u001b[0m             value\u001b[39m+\u001b[39m\u001b[39m=\u001b[39mdfs(graph,new[\u001b[39m0\u001b[39m],new[\u001b[39m1\u001b[39m])\n\u001b[1;32m     22\u001b[0m     \u001b[39mreturn\u001b[39;00m value\n\u001b[0;32m---> 24\u001b[0m n,m,k\u001b[39m=\u001b[39m\u001b[39minput\u001b[39m()\u001b[39m.\u001b[39msplit()\n\u001b[1;32m     25\u001b[0m n\u001b[39m=\u001b[39m\u001b[39mint\u001b[39m(n)\n\u001b[1;32m     26\u001b[0m m\u001b[39m=\u001b[39m\u001b[39mint\u001b[39m(m)\n",
      "\u001b[0;31mValueError\u001b[0m: not enough values to unpack (expected 3, got 0)"
     ]
    }
   ],
   "source": [
    "import sys\n",
    "sys.setrecursionlimit(100000)\n",
    "\n",
    "def dfs(graph,n,m):\n",
    "    #갈 수 없거나 중복 -> 재귀 이전에서 걸러줌\n",
    "    if graph[n][m]!=1: return 0\n",
    "\n",
    "    #방문\n",
    "    value=1; graph[n][m]=-1\n",
    "\n",
    "    #상하좌우 DFS\n",
    "    direction=[(-1,0),(1,0),(0,-1),(0,1)]\n",
    "\n",
    "    for d in direction:\n",
    "        new=(n+d[0],m+d[1])\n",
    "\n",
    "        #갈 수 있으면\n",
    "        if(new[0]>=0 and new[0]<len(graph) and new[1]>=0 and new[1]<len(graph[0])\\\n",
    "            and graph[new[0]][new[1]]==1):\n",
    "            value+=dfs(graph,new[0],new[1])\n",
    "\n",
    "    return value\n",
    "\n",
    "n,m,k=input().split()\n",
    "n=int(n)\n",
    "m=int(m)\n",
    "k=int(k)\n",
    "\n",
    "#graph 구성\n",
    "graph=[]\n",
    "for i in range(n):\n",
    "    row=[0]*m\n",
    "    graph.append(row)\n",
    "\n",
    "#graph 입력\n",
    "for j in range(k):\n",
    "    r,c=input().split()\n",
    "    r=int(r)-1; c=int(c)-1\n",
    "    graph[r][c]=1\n",
    "\n",
    "result=-9999\n",
    "\n",
    "for i in range(len(graph)):\n",
    "    for j in range(len(graph[0])):\n",
    "        dfsRes=dfs(graph,i,j)\n",
    "        if(result<dfsRes):\n",
    "            result=dfsRes\n",
    "\n",
    "print(result)"
   ]
  },
  {
   "cell_type": "markdown",
   "metadata": {},
   "source": [
    "문제점)\n",
    "\n",
    "결과는 맞지만, 런타임 에러 (RecursionError) 문제가 발생했음. 이는 재귀가 깊어져서 나는 문제라 최대한 재귀를 줄이도록 조건문으로 재귀를 줄였지만 애초에 입력값이 깊어서 재귀의 깊이를 줄일 수 없었다.\n",
    "알아보니, python에서는 1000번 이상의 재귀가 일어나면 RecursionError가 발생함.\n",
    "\n",
    "import sys\n",
    "sys.setrecursionlimit(100000)\n",
    "\n",
    "sys 라이브러리를 import하여 재귀 제한을 100000번으로 재설정함 -> 성공!\n",
    "\n",
    "만약 sys 라이브러리 사용 불가하다면 BFS로 풀어야 함.\n",
    "\n",
    "결론) 해당 문제는 sys 라이브러리 없이는 해결 불가함."
   ]
  },
  {
   "cell_type": "code",
   "execution_count": 4,
   "metadata": {},
   "outputs": [
    {
     "name": "stdout",
     "output_type": "stream",
     "text": [
      "4\n"
     ]
    }
   ],
   "source": [
    "from collections import deque\n",
    "\n",
    "def bfs(graph,n,m):\n",
    "    queue=deque()\n",
    "\n",
    "    if graph[n][m]!=1: return 0\n",
    "\n",
    "    cnt=1\n",
    "\n",
    "    #방문\n",
    "    queue.append((n,m)); graph[n][m]=-1\n",
    "    direction=[(-1,0),(1,0),(0,-1),(0,1)]\n",
    "\n",
    "    while queue:\n",
    "        now=queue.popleft()\n",
    "\n",
    "        #상하좌우 BFS\n",
    "        for d in direction:\n",
    "            new=(now[0]+d[0],now[1]+d[1])\n",
    "\n",
    "            #방문 안했으면 방문(graph에 기록)\n",
    "            if new[0]>=0 and new[0]<len(graph) and new[1]>=0 and new[1]<len(graph[0]) and graph[new[0]][new[1]]==1:\n",
    "                graph[new[0]][new[1]]=-1\n",
    "                queue.append(new)\n",
    "                cnt+=1\n",
    "\n",
    "    return cnt\n",
    "\n",
    "\n",
    "n,m,k=input().split()\n",
    "n=int(n)\n",
    "m=int(m)\n",
    "k=int(k)\n",
    "\n",
    "#graph 구성\n",
    "graph=[]\n",
    "for i in range(n):\n",
    "    row=[0]*m\n",
    "    graph.append(row)\n",
    "\n",
    "#graph 입력\n",
    "for j in range(k):\n",
    "    r,c=input().split()\n",
    "    r=int(r)-1; c=int(c)-1\n",
    "    graph[r][c]=1\n",
    "\n",
    "res=0\n",
    "for i in range(n):\n",
    "    for j in range(m):\n",
    "        bfsRes=bfs(graph,i,j)\n",
    "        if res<bfsRes: \n",
    "            res=bfsRes\n",
    "\n",
    "print(res)"
   ]
  }
 ],
 "metadata": {
  "kernelspec": {
   "display_name": "Python 3.8.9 64-bit",
   "language": "python",
   "name": "python3"
  },
  "language_info": {
   "codemirror_mode": {
    "name": "ipython",
    "version": 3
   },
   "file_extension": ".py",
   "mimetype": "text/x-python",
   "name": "python",
   "nbconvert_exporter": "python",
   "pygments_lexer": "ipython3",
   "version": "3.8.9"
  },
  "orig_nbformat": 4,
  "vscode": {
   "interpreter": {
    "hash": "31f2aee4e71d21fbe5cf8b01ff0e069b9275f58929596ceb00d14d90e3e16cd6"
   }
  }
 },
 "nbformat": 4,
 "nbformat_minor": 2
}
