{
 "cells": [
  {
   "cell_type": "markdown",
   "metadata": {},
   "source": [
    "전쟁은 어느덧 전면전이 시작되었다. 결국 전투는 난전이 되었고, 우리 병사와 적국 병사가 섞여 싸우게 되었다. 그러나 당신의 병사들은 흰색 옷을 입고, 적국의 병사들은 파란색 옷을 입었기 때문에 서로가 적인지 아군인지는 구분할 수 있다. 문제는 같은 팀의 병사들은 모이면 모일수록 강해진다는 사실이다.\n",
    "\n",
    "N명이 뭉쳐있을 때는 N2의 위력을 낼 수 있다. 과연 지금 난전의 상황에서는 누가 승리할 것인가? 단, 같은 팀의 병사들이 대각선으로만 인접한 경우는 뭉쳐 있다고 보지 않는다.\n",
    "\n",
    "https://www.acmicpc.net/problem/1303"
   ]
  },
  {
   "cell_type": "code",
   "execution_count": 15,
   "metadata": {},
   "outputs": [
    {
     "name": "stdout",
     "output_type": "stream",
     "text": [
      "130 65\n"
     ]
    }
   ],
   "source": [
    "def dfs(field, visited, vm, vn,team):\n",
    "    value=0\n",
    "    #현재 v에 대하여 방문했는지? or 적군인지 \n",
    "    if visited[vm][vn]==True or not team==field[vm][vn]: return value\n",
    "\n",
    "    value+=1; visited[vm][vn]=True\n",
    "    \n",
    "    #상하좌우 방문 여부\n",
    "    if(vm-1>=0):\n",
    "        value+=dfs(field,visited,vm-1,vn,team)\n",
    "    \n",
    "    if(vm+1<len(field)):\n",
    "        value+=dfs(field,visited,vm+1,vn,team)\n",
    "\n",
    "    if(vn-1>=0):\n",
    "        value+=dfs(field,visited,vm,vn-1,team)\n",
    "    \n",
    "    if(vn+1<len(field[0])):\n",
    "        value+=dfs(field,visited,vm,vn+1,team)\n",
    "\n",
    "    #print('value[',vm,'][',vn,']: ', value)\n",
    "\n",
    "    return value  \n",
    "\n",
    "n,m=input().split()\n",
    "n=int(n); m=int(m)\n",
    "\n",
    "field=[]\n",
    "\n",
    "#입력받은 값을 리스트로\n",
    "for i in range (m):\n",
    "    rowStr=input()\n",
    "    field.append(list(rowStr))\n",
    "\n",
    "visited=[]\n",
    "for i in range(m):\n",
    "    visited.append([False]*n)\n",
    "\n",
    "w=0; b=0;\n",
    "for vm in range(m):\n",
    "    for vn in range(n):\n",
    "        if(field[vm][vn]=='B'):\n",
    "            b+=(dfs(field,visited,vm,vn,'B')**2)\n",
    "        else:\n",
    "            w+=(dfs(field,visited,vm,vn,'W')**2)\n",
    "\n",
    "print(w,b)"
   ]
  },
  {
   "cell_type": "markdown",
   "metadata": {},
   "source": [
    "DFS를 이용하여 문제를 해결하였다. 입력 값을 2D 리스트로 구성하였고 visited(집계되었는지 여부 확인 하는 리스트) 또한 동일하게 구성하였다.\n",
    "여기서 모든 병사에 대해 DFS를 수행하여 이미 집계에 들어간 병사인지를 판별하고, 집계에 들어가지 않았으면 해당 병사부터 DFS를 수행하였다. \n",
    "\n",
    "DFS 함수에서는, 현재 병사가 같은 팀의 병사인지 확인하고 같다면 집계한다. 이후 이 노트를 기반으로 상하좌우에 대하여 DFS 재귀를 실행한다. \n",
    "\n",
    "BFS로도 풀 수 있는 것 같은데 도저히 생각이 안 난다. DFS로 푸는 방법만 생각남. **뭉쳐있는 경우**에 집중해서 그런 것 같다. "
   ]
  }
 ],
 "metadata": {
  "kernelspec": {
   "display_name": "Python 3.8.9 64-bit",
   "language": "python",
   "name": "python3"
  },
  "language_info": {
   "codemirror_mode": {
    "name": "ipython",
    "version": 3
   },
   "file_extension": ".py",
   "mimetype": "text/x-python",
   "name": "python",
   "nbconvert_exporter": "python",
   "pygments_lexer": "ipython3",
   "version": "3.8.9"
  },
  "orig_nbformat": 4,
  "vscode": {
   "interpreter": {
    "hash": "31f2aee4e71d21fbe5cf8b01ff0e069b9275f58929596ceb00d14d90e3e16cd6"
   }
  }
 },
 "nbformat": 4,
 "nbformat_minor": 2
}
